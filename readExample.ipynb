{
 "cells": [
  {
   "cell_type": "code",
   "execution_count": 70,
   "id": "b6275018-a752-4d91-be6a-b65555f8e87f",
   "metadata": {},
   "outputs": [
    {
     "name": "stdout",
     "output_type": "stream",
     "text": [
      "['/usr/lib/python3.9', '/usr/lib/python3.9/lib-dynload', '/home/seth/.local/lib/python3.9/site-packages', '/usr/local/lib/python3.9/dist-packages', '/usr/lib/python3/dist-packages']\n"
     ]
    },
    {
     "data": {
      "text/plain": [
       "<module 'ReadMaestro.parse_pursuit_trials' from '/home/seth/analysis/ReadMaestro/ReadMaestro/parse_pursuit_trials.py'>"
      ]
     },
     "execution_count": 70,
     "metadata": {},
     "output_type": "execute_result"
    }
   ],
   "source": [
    "import os\n",
    "import sys\n",
    "import re\n",
    "import numpy as np\n",
    "\n",
    "from ReadMaestro import maestro\n",
    "from ReadMaestro import parse_pursuit_trials\n",
    "paths = [p for p in sys.path if os.path.exists(p)]\n",
    "print(paths)\n",
    "\n",
    "from importlib import reload\n",
    "reload(maestro)\n",
    "reload(parse_pursuit_trials)"
   ]
  },
  {
   "cell_type": "code",
   "execution_count": 2,
   "id": "548dc713-448b-432a-be6c-3f3735d25ace",
   "metadata": {},
   "outputs": [],
   "source": [
    "file_path = '/home/seth/Projects/DynamicCoherencePhysiology/ar/20220404a/ar220404a.0001'\n",
    "with open(file_path, 'rb') as f:\n",
    "    data_file = maestro.DataFile.load(f.read(), file_path)"
   ]
  },
  {
   "cell_type": "code",
   "execution_count": 72,
   "id": "63985114-1e49-48eb-826f-ce480b921a00",
   "metadata": {},
   "outputs": [],
   "source": [
    "data = maestro.load_directory('/home/seth/Projects/DynamicCoherencePhysiology/ar/20220404a')"
   ]
  },
  {
   "cell_type": "code",
   "execution_count": 73,
   "id": "150e022d-3a6c-4aeb-bbbe-517aa96d7b5c",
   "metadata": {},
   "outputs": [
    {
     "name": "stdout",
     "output_type": "stream",
     "text": [
      "/home/seth/Projects/DynamicCoherencePhysiology/ar/2022040\n",
      "[[-1.10268 -1.10268 -0.55134 ...  0.09189 -0.45945  0.     ]\n",
      " [ 0.27567  0.45945  0.      ... -0.09189  0.64323  0.     ]\n",
      " [ 0.73512  0.       0.18378 ...  0.27567 -0.36756  0.     ]\n",
      " ...\n",
      " [-0.09189  0.27567 -0.09189 ... -0.18378  0.09189 -0.09189]\n",
      " [ 0.09189 -0.18378  0.09189 ...  0.18378  0.09189 -0.09189]\n",
      " [ 0.55134  0.09189  0.36756 ...  0.18378  0.36756 -0.36756]]\n",
      "[[     nan      nan -0.55134 ...  0.09189 -0.45945  0.     ]\n",
      " [     nan      nan -0.55134 ...  0.       0.18378  0.     ]\n",
      " [     nan      nan -0.36756 ...  0.27567 -0.18378  0.     ]\n",
      " ...\n",
      " [ 0.       0.36756 -0.09189 ... -1.19457  0.18378  0.36756]\n",
      " [ 0.09189  0.18378  0.      ... -1.01079  0.27567  0.27567]\n",
      " [ 0.64323  0.27567  0.36756 ... -0.82701  0.64323 -0.09189]]\n",
      "[[ True  True False ... False False False]\n",
      " [ True  True False ... False False False]\n",
      " [ True  True False ... False False False]\n",
      " ...\n",
      " [False False False ... False False False]\n",
      " [False False False ... False False False]\n",
      " [False False False ... False False False]]\n"
     ]
    }
   ],
   "source": [
    "purs = parse_pursuit_trials.pursuitDataObject\n",
    "purs.setName(purs,data)\n",
    "print(purs.name)\n",
    "\n",
    "purs.pursuitData(purs,data,trialIDs=['dPref'], directions=[0.0, 45.0, 90.0, 135.0, 180.0, 225.0, 270.0, 315.0], speeds=[10.0], coherences=[], perturbations=[])\n",
    "print(purs.hvelocities)\n",
    "print(purs.saccades)"
   ]
  },
  {
   "cell_type": "code",
   "execution_count": 74,
   "id": "297583f1-7cff-4f79-9628-7d86f6e1d173",
   "metadata": {},
   "outputs": [
    {
     "data": {
      "text/plain": [
       "array([-1.10268, -0.82701, -0.09189, -0.18378, -0.9189 , -0.82701,\n",
       "       -0.27567,  0.     ,  0.     ,  0.     ])"
      ]
     },
     "execution_count": 74,
     "metadata": {},
     "output_type": "execute_result"
    }
   ],
   "source": [
    "np.array(data[0].ai_data[2][0:10])*0.09189\n"
   ]
  },
  {
   "cell_type": "code",
   "execution_count": 185,
   "id": "2c07f1fe-c939-41df-8533-94ae02fd56cc",
   "metadata": {},
   "outputs": [],
   "source": []
  },
  {
   "cell_type": "code",
   "execution_count": 186,
   "id": "ed025304-3872-4f49-8082-a55267bd4c68",
   "metadata": {},
   "outputs": [
    {
     "name": "stdout",
     "output_type": "stream",
     "text": [
      "(1751, 1)\n",
      "[90.0]\n"
     ]
    }
   ],
   "source": []
  },
  {
   "cell_type": "code",
   "execution_count": 69,
   "id": "70bd9baa-2612-4f94-a3b7-d668ea65538e",
   "metadata": {},
   "outputs": [
    {
     "name": "stdout",
     "output_type": "stream",
     "text": [
      "[[ 1.  2.  3.]\n",
      " [ 4.  5.  6.]\n",
      " [ 7.  8.  9.]\n",
      " [10. 11. 12.]]\n",
      "[[0.5 0.  0.5]\n",
      " [1.  0.5 1. ]\n",
      " [1.  1.  1. ]\n",
      " [1.  1.  1. ]]\n",
      "[[ True False  True]\n",
      " [ True  True  True]\n",
      " [ True  True  True]\n",
      " [ True  True  True]]\n",
      "[[1. 0. 1.]\n",
      " [1. 1. 1.]\n",
      " [1. 1. 1.]\n",
      " [1. 1. 1.]]\n"
     ]
    }
   ],
   "source": []
  },
  {
   "cell_type": "code",
   "execution_count": null,
   "id": "50cfcb54-704b-4e2a-be1b-70122d39f18e",
   "metadata": {},
   "outputs": [],
   "source": []
  }
 ],
 "metadata": {
  "kernelspec": {
   "display_name": "Python 3 (ipykernel)",
   "language": "python",
   "name": "python3"
  },
  "language_info": {
   "codemirror_mode": {
    "name": "ipython",
    "version": 3
   },
   "file_extension": ".py",
   "mimetype": "text/x-python",
   "name": "python",
   "nbconvert_exporter": "python",
   "pygments_lexer": "ipython3",
   "version": "3.9.5"
  }
 },
 "nbformat": 4,
 "nbformat_minor": 5
}

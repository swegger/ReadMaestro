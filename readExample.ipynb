{
 "cells": [
  {
   "cell_type": "code",
   "execution_count": 43,
   "id": "b6275018-a752-4d91-be6a-b65555f8e87f",
   "metadata": {},
   "outputs": [
    {
     "name": "stdout",
     "output_type": "stream",
     "text": [
      "['/usr/lib/python3.9', '/usr/lib/python3.9/lib-dynload', '/home/seth/.local/lib/python3.9/site-packages', '/usr/local/lib/python3.9/dist-packages', '/usr/lib/python3/dist-packages']\n"
     ]
    },
    {
     "data": {
      "text/plain": [
       "<module 'ReadMaestro.parse_pursuit_trials' from '/home/seth/analysis/ReadMaestro/ReadMaestro/parse_pursuit_trials.py'>"
      ]
     },
     "execution_count": 43,
     "metadata": {},
     "output_type": "execute_result"
    }
   ],
   "source": [
    "import os\n",
    "import sys\n",
    "\n",
    "from ReadMaestro import maestro\n",
    "from ReadMaestro import parse_pursuit_trials\n",
    "paths = [p for p in sys.path if os.path.exists(p)]\n",
    "print(paths)\n",
    "\n",
    "from importlib import reload\n",
    "reload(maestro)\n",
    "reload(parse_pursuit_trials)"
   ]
  },
  {
   "cell_type": "code",
   "execution_count": 2,
   "id": "548dc713-448b-432a-be6c-3f3735d25ace",
   "metadata": {},
   "outputs": [],
   "source": [
    "file_path = '/home/seth/Projects/DynamicCoherencePhysiology/ar/20220404a/ar220404a.0001'\n",
    "with open(file_path, 'rb') as f:\n",
    "    data_file = maestro.DataFile.load(f.read(), file_path)"
   ]
  },
  {
   "cell_type": "code",
   "execution_count": 5,
   "id": "63985114-1e49-48eb-826f-ce480b921a00",
   "metadata": {},
   "outputs": [],
   "source": [
    "data = maestro.load_directory('/home/seth/Projects/DynamicCoherencePhysiology/test/20191122a')"
   ]
  },
  {
   "cell_type": "code",
   "execution_count": 27,
   "id": "150e022d-3a6c-4aeb-bbbe-517aa96d7b5c",
   "metadata": {},
   "outputs": [
    {
     "data": {
      "text/plain": [
       "<ReadMaestro.maestro.DataFileHeader at 0x7f89719f0460>"
      ]
     },
     "execution_count": 27,
     "metadata": {},
     "output_type": "execute_result"
    }
   ],
   "source": [
    "data[0].header"
   ]
  },
  {
   "cell_type": "code",
   "execution_count": 48,
   "id": "297583f1-7cff-4f79-9628-7d86f6e1d173",
   "metadata": {},
   "outputs": [
    {
     "name": "stdout",
     "output_type": "stream",
     "text": [
      "dPref\n"
     ]
    }
   ],
   "source": [
    "trialN = len(data)\n",
    "temp = parse_pursuit_trials.pursuitDataObject()\n",
    "trialObj = []\n",
    "for triali in range(trialN):\n",
    "    trial_str = data[triali].header.trial_name\n",
    "    temp.name = trial_str[0:5]\n",
    "    trialObj.append(temp)\n",
    "\n",
    "print(trialObj[0].name)\n",
    "\n",
    "Idx = [0, 1]\n"
   ]
  },
  {
   "cell_type": "code",
   "execution_count": null,
   "id": "2c07f1fe-c939-41df-8533-94ae02fd56cc",
   "metadata": {},
   "outputs": [],
   "source": [
    "T = [data[i].header.trial_name for i in Idx]\n",
    "T"
   ]
  }
 ],
 "metadata": {
  "kernelspec": {
   "display_name": "Python 3 (ipykernel)",
   "language": "python",
   "name": "python3"
  },
  "language_info": {
   "codemirror_mode": {
    "name": "ipython",
    "version": 3
   },
   "file_extension": ".py",
   "mimetype": "text/x-python",
   "name": "python",
   "nbconvert_exporter": "python",
   "pygments_lexer": "ipython3",
   "version": "3.9.5"
  }
 },
 "nbformat": 4,
 "nbformat_minor": 5
}

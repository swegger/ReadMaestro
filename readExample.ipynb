{
 "cells": [
  {
   "cell_type": "code",
   "execution_count": 193,
   "id": "b6275018-a752-4d91-be6a-b65555f8e87f",
   "metadata": {},
   "outputs": [
    {
     "name": "stdout",
     "output_type": "stream",
     "text": [
      "['/usr/lib/python3.9', '/usr/lib/python3.9/lib-dynload', '/home/seth/.local/lib/python3.9/site-packages', '/usr/local/lib/python3.9/dist-packages', '/usr/lib/python3/dist-packages']\n"
     ]
    },
    {
     "data": {
      "text/plain": [
       "<module 'ReadMaestro.parse_pursuit_trials' from '/home/seth/analysis/ReadMaestro/ReadMaestro/parse_pursuit_trials.py'>"
      ]
     },
     "execution_count": 193,
     "metadata": {},
     "output_type": "execute_result"
    }
   ],
   "source": [
    "import os\n",
    "import sys\n",
    "import re\n",
    "import numpy as np\n",
    "\n",
    "from ReadMaestro import maestro\n",
    "from ReadMaestro import parse_pursuit_trials\n",
    "paths = [p for p in sys.path if os.path.exists(p)]\n",
    "print(paths)\n",
    "\n",
    "from importlib import reload\n",
    "reload(maestro)\n",
    "reload(parse_pursuit_trials)"
   ]
  },
  {
   "cell_type": "code",
   "execution_count": 2,
   "id": "548dc713-448b-432a-be6c-3f3735d25ace",
   "metadata": {},
   "outputs": [],
   "source": [
    "file_path = '/home/seth/Projects/DynamicCoherencePhysiology/ar/20220404a/ar220404a.0001'\n",
    "with open(file_path, 'rb') as f:\n",
    "    data_file = maestro.DataFile.load(f.read(), file_path)"
   ]
  },
  {
   "cell_type": "code",
   "execution_count": 2,
   "id": "63985114-1e49-48eb-826f-ce480b921a00",
   "metadata": {},
   "outputs": [],
   "source": [
    "data = maestro.load_directory('/home/seth/Projects/DynamicCoherencePhysiology/test/20191122a')"
   ]
  },
  {
   "cell_type": "code",
   "execution_count": 194,
   "id": "150e022d-3a6c-4aeb-bbbe-517aa96d7b5c",
   "metadata": {},
   "outputs": [
    {
     "name": "stdout",
     "output_type": "stream",
     "text": [
      "/home/seth/Projects/DynamicCoherencePhysiology/test/20191122a\n",
      "[[ 0.36756]\n",
      " [-0.73512]\n",
      " [-0.55134]\n",
      " ...\n",
      " [ 0.55134]\n",
      " [ 0.55134]\n",
      " [ 0.18378]]\n"
     ]
    }
   ],
   "source": [
    "purs = parse_pursuit_trials.pursuitDataObject\n",
    "purs.setName(purs,data)\n",
    "print(purs.name)\n",
    "\n",
    "purs.pursuitData(purs,data,trialIDs=['dPref'],directions=[0.0],speeds=[10.0],coherences=[],perturbations=[])\n",
    "print(purs.hvelocities)"
   ]
  },
  {
   "cell_type": "code",
   "execution_count": 190,
   "id": "297583f1-7cff-4f79-9628-7d86f6e1d173",
   "metadata": {},
   "outputs": [
    {
     "data": {
      "text/plain": [
       "array([ 0.36756, -0.73512, -0.55134, -0.55134, -0.27567,  0.36756,\n",
       "        0.     , -0.09189, -0.27567, -0.18378])"
      ]
     },
     "execution_count": 190,
     "metadata": {},
     "output_type": "execute_result"
    }
   ],
   "source": [
    "np.array(data[0].ai_data[2][0:10])*0.09189\n"
   ]
  },
  {
   "cell_type": "code",
   "execution_count": 185,
   "id": "2c07f1fe-c939-41df-8533-94ae02fd56cc",
   "metadata": {},
   "outputs": [],
   "source": [
    "hvelocity, vvelocity, dirs, spds = parse_pursuit_trials.pursuitData(data,directions=[10.0,90.0])"
   ]
  },
  {
   "cell_type": "code",
   "execution_count": 186,
   "id": "ed025304-3872-4f49-8082-a55267bd4c68",
   "metadata": {},
   "outputs": [
    {
     "name": "stdout",
     "output_type": "stream",
     "text": [
      "(1751, 1)\n",
      "[90.0]\n"
     ]
    }
   ],
   "source": [
    "print(hvelocity.shape)\n",
    "print(dirs)"
   ]
  },
  {
   "cell_type": "code",
   "execution_count": null,
   "id": "70bd9baa-2612-4f94-a3b7-d668ea65538e",
   "metadata": {},
   "outputs": [],
   "source": []
  }
 ],
 "metadata": {
  "kernelspec": {
   "display_name": "Python 3 (ipykernel)",
   "language": "python",
   "name": "python3"
  },
  "language_info": {
   "codemirror_mode": {
    "name": "ipython",
    "version": 3
   },
   "file_extension": ".py",
   "mimetype": "text/x-python",
   "name": "python",
   "nbconvert_exporter": "python",
   "pygments_lexer": "ipython3",
   "version": "3.9.5"
  }
 },
 "nbformat": 4,
 "nbformat_minor": 5
}
